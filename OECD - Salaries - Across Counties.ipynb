{
 "cells": [
  {
   "cell_type": "code",
   "execution_count": 417,
   "id": "c5592c10-0498-42d8-a902-db4127b46d9d",
   "metadata": {},
   "outputs": [
    {
     "data": {
      "text/plain": [
       "<Figure size 1500x1600 with 0 Axes>"
      ]
     },
     "execution_count": 417,
     "metadata": {},
     "output_type": "execute_result"
    },
    {
     "data": {
      "text/plain": [
       "<Figure size 1500x1600 with 0 Axes>"
      ]
     },
     "metadata": {},
     "output_type": "display_data"
    }
   ],
   "source": [
    "import pandas as pd\n",
    "import numpy as np\n",
    "import matplotlib.pyplot as plt\n",
    "import seaborn as sns\n",
    "plt.figure(figsize=(15,16))"
   ]
  },
  {
   "cell_type": "markdown",
   "id": "3e9d5195-032d-4918-b844-e6e47a154904",
   "metadata": {},
   "source": [
    "# EDA (Exploratory Data Analysis)"
   ]
  },
  {
   "cell_type": "code",
   "execution_count": 419,
   "id": "53e3e544-30a4-4f8c-83a7-8ea07e214ecf",
   "metadata": {},
   "outputs": [],
   "source": [
    "df = pd.read_csv(\"OECD_Salary_USD.csv\")"
   ]
  },
  {
   "cell_type": "code",
   "execution_count": 420,
   "id": "2418bf80-58cf-43c0-8e64-5e51230028a2",
   "metadata": {
    "scrolled": true
   },
   "outputs": [
    {
     "data": {
      "text/html": [
       "<div>\n",
       "<style scoped>\n",
       "    .dataframe tbody tr th:only-of-type {\n",
       "        vertical-align: middle;\n",
       "    }\n",
       "\n",
       "    .dataframe tbody tr th {\n",
       "        vertical-align: top;\n",
       "    }\n",
       "\n",
       "    .dataframe thead th {\n",
       "        text-align: right;\n",
       "    }\n",
       "</style>\n",
       "<table border=\"1\" class=\"dataframe\">\n",
       "  <thead>\n",
       "    <tr style=\"text-align: right;\">\n",
       "      <th></th>\n",
       "      <th>STRUCTURE</th>\n",
       "      <th>STRUCTURE_ID</th>\n",
       "      <th>STRUCTURE_NAME</th>\n",
       "      <th>ACTION</th>\n",
       "      <th>REF_AREA</th>\n",
       "      <th>Reference area</th>\n",
       "      <th>MEASURE</th>\n",
       "      <th>Measure</th>\n",
       "      <th>UNIT_MEASURE</th>\n",
       "      <th>Unit of measure</th>\n",
       "      <th>...</th>\n",
       "      <th>OBS_VALUE</th>\n",
       "      <th>Observation value</th>\n",
       "      <th>BASE_PER</th>\n",
       "      <th>Base period</th>\n",
       "      <th>OBS_STATUS</th>\n",
       "      <th>Observation status</th>\n",
       "      <th>UNIT_MULT</th>\n",
       "      <th>Unit multiplier</th>\n",
       "      <th>DECIMALS</th>\n",
       "      <th>Decimals</th>\n",
       "    </tr>\n",
       "  </thead>\n",
       "  <tbody>\n",
       "    <tr>\n",
       "      <th>0</th>\n",
       "      <td>DATAFLOW</td>\n",
       "      <td>OECD.ELS.SAE:DSD_EARNINGS@AV_AN_WAGE(1.0)</td>\n",
       "      <td>Average annual wages</td>\n",
       "      <td>I</td>\n",
       "      <td>AUS</td>\n",
       "      <td>Australia</td>\n",
       "      <td>WG</td>\n",
       "      <td>Wages</td>\n",
       "      <td>USD_PPP</td>\n",
       "      <td>US dollars, PPP converted</td>\n",
       "      <td>...</td>\n",
       "      <td>52346.674</td>\n",
       "      <td>NaN</td>\n",
       "      <td>2022</td>\n",
       "      <td>NaN</td>\n",
       "      <td>A</td>\n",
       "      <td>Normal value</td>\n",
       "      <td>0</td>\n",
       "      <td>Units</td>\n",
       "      <td>0</td>\n",
       "      <td>Zero</td>\n",
       "    </tr>\n",
       "    <tr>\n",
       "      <th>1</th>\n",
       "      <td>DATAFLOW</td>\n",
       "      <td>OECD.ELS.SAE:DSD_EARNINGS@AV_AN_WAGE(1.0)</td>\n",
       "      <td>Average annual wages</td>\n",
       "      <td>I</td>\n",
       "      <td>AUS</td>\n",
       "      <td>Australia</td>\n",
       "      <td>WG</td>\n",
       "      <td>Wages</td>\n",
       "      <td>USD_PPP</td>\n",
       "      <td>US dollars, PPP converted</td>\n",
       "      <td>...</td>\n",
       "      <td>52501.772</td>\n",
       "      <td>NaN</td>\n",
       "      <td>2022</td>\n",
       "      <td>NaN</td>\n",
       "      <td>A</td>\n",
       "      <td>Normal value</td>\n",
       "      <td>0</td>\n",
       "      <td>Units</td>\n",
       "      <td>0</td>\n",
       "      <td>Zero</td>\n",
       "    </tr>\n",
       "    <tr>\n",
       "      <th>2</th>\n",
       "      <td>DATAFLOW</td>\n",
       "      <td>OECD.ELS.SAE:DSD_EARNINGS@AV_AN_WAGE(1.0)</td>\n",
       "      <td>Average annual wages</td>\n",
       "      <td>I</td>\n",
       "      <td>AUS</td>\n",
       "      <td>Australia</td>\n",
       "      <td>WG</td>\n",
       "      <td>Wages</td>\n",
       "      <td>USD_PPP</td>\n",
       "      <td>US dollars, PPP converted</td>\n",
       "      <td>...</td>\n",
       "      <td>53021.326</td>\n",
       "      <td>NaN</td>\n",
       "      <td>2022</td>\n",
       "      <td>NaN</td>\n",
       "      <td>A</td>\n",
       "      <td>Normal value</td>\n",
       "      <td>0</td>\n",
       "      <td>Units</td>\n",
       "      <td>0</td>\n",
       "      <td>Zero</td>\n",
       "    </tr>\n",
       "    <tr>\n",
       "      <th>3</th>\n",
       "      <td>DATAFLOW</td>\n",
       "      <td>OECD.ELS.SAE:DSD_EARNINGS@AV_AN_WAGE(1.0)</td>\n",
       "      <td>Average annual wages</td>\n",
       "      <td>I</td>\n",
       "      <td>AUS</td>\n",
       "      <td>Australia</td>\n",
       "      <td>WG</td>\n",
       "      <td>Wages</td>\n",
       "      <td>USD_PPP</td>\n",
       "      <td>US dollars, PPP converted</td>\n",
       "      <td>...</td>\n",
       "      <td>46966.869</td>\n",
       "      <td>NaN</td>\n",
       "      <td>2022</td>\n",
       "      <td>NaN</td>\n",
       "      <td>A</td>\n",
       "      <td>Normal value</td>\n",
       "      <td>0</td>\n",
       "      <td>Units</td>\n",
       "      <td>0</td>\n",
       "      <td>Zero</td>\n",
       "    </tr>\n",
       "    <tr>\n",
       "      <th>4</th>\n",
       "      <td>DATAFLOW</td>\n",
       "      <td>OECD.ELS.SAE:DSD_EARNINGS@AV_AN_WAGE(1.0)</td>\n",
       "      <td>Average annual wages</td>\n",
       "      <td>I</td>\n",
       "      <td>AUS</td>\n",
       "      <td>Australia</td>\n",
       "      <td>WG</td>\n",
       "      <td>Wages</td>\n",
       "      <td>USD_PPP</td>\n",
       "      <td>US dollars, PPP converted</td>\n",
       "      <td>...</td>\n",
       "      <td>47406.184</td>\n",
       "      <td>NaN</td>\n",
       "      <td>2022</td>\n",
       "      <td>NaN</td>\n",
       "      <td>A</td>\n",
       "      <td>Normal value</td>\n",
       "      <td>0</td>\n",
       "      <td>Units</td>\n",
       "      <td>0</td>\n",
       "      <td>Zero</td>\n",
       "    </tr>\n",
       "  </tbody>\n",
       "</table>\n",
       "<p>5 rows × 30 columns</p>\n",
       "</div>"
      ],
      "text/plain": [
       "  STRUCTURE                               STRUCTURE_ID        STRUCTURE_NAME  \\\n",
       "0  DATAFLOW  OECD.ELS.SAE:DSD_EARNINGS@AV_AN_WAGE(1.0)  Average annual wages   \n",
       "1  DATAFLOW  OECD.ELS.SAE:DSD_EARNINGS@AV_AN_WAGE(1.0)  Average annual wages   \n",
       "2  DATAFLOW  OECD.ELS.SAE:DSD_EARNINGS@AV_AN_WAGE(1.0)  Average annual wages   \n",
       "3  DATAFLOW  OECD.ELS.SAE:DSD_EARNINGS@AV_AN_WAGE(1.0)  Average annual wages   \n",
       "4  DATAFLOW  OECD.ELS.SAE:DSD_EARNINGS@AV_AN_WAGE(1.0)  Average annual wages   \n",
       "\n",
       "  ACTION REF_AREA Reference area MEASURE Measure UNIT_MEASURE  \\\n",
       "0      I      AUS      Australia      WG   Wages      USD_PPP   \n",
       "1      I      AUS      Australia      WG   Wages      USD_PPP   \n",
       "2      I      AUS      Australia      WG   Wages      USD_PPP   \n",
       "3      I      AUS      Australia      WG   Wages      USD_PPP   \n",
       "4      I      AUS      Australia      WG   Wages      USD_PPP   \n",
       "\n",
       "             Unit of measure  ...  OBS_VALUE Observation value BASE_PER  \\\n",
       "0  US dollars, PPP converted  ...  52346.674               NaN     2022   \n",
       "1  US dollars, PPP converted  ...  52501.772               NaN     2022   \n",
       "2  US dollars, PPP converted  ...  53021.326               NaN     2022   \n",
       "3  US dollars, PPP converted  ...  46966.869               NaN     2022   \n",
       "4  US dollars, PPP converted  ...  47406.184               NaN     2022   \n",
       "\n",
       "  Base period OBS_STATUS Observation status UNIT_MULT Unit multiplier  \\\n",
       "0         NaN          A       Normal value         0           Units   \n",
       "1         NaN          A       Normal value         0           Units   \n",
       "2         NaN          A       Normal value         0           Units   \n",
       "3         NaN          A       Normal value         0           Units   \n",
       "4         NaN          A       Normal value         0           Units   \n",
       "\n",
       "   DECIMALS  Decimals  \n",
       "0         0      Zero  \n",
       "1         0      Zero  \n",
       "2         0      Zero  \n",
       "3         0      Zero  \n",
       "4         0      Zero  \n",
       "\n",
       "[5 rows x 30 columns]"
      ]
     },
     "execution_count": 420,
     "metadata": {},
     "output_type": "execute_result"
    }
   ],
   "source": [
    "df.head()"
   ]
  },
  {
   "cell_type": "code",
   "execution_count": 421,
   "id": "44d1a83b-2fcb-4748-896e-bc0d38c39af7",
   "metadata": {},
   "outputs": [
    {
     "name": "stdout",
     "output_type": "stream",
     "text": [
      "<class 'pandas.core.frame.DataFrame'>\n",
      "Index: 39 entries, 31 to 1202\n",
      "Data columns (total 30 columns):\n",
      " #   Column                 Non-Null Count  Dtype  \n",
      "---  ------                 --------------  -----  \n",
      " 0   STRUCTURE              39 non-null     object \n",
      " 1   STRUCTURE_ID           39 non-null     object \n",
      " 2   STRUCTURE_NAME         39 non-null     object \n",
      " 3   ACTION                 39 non-null     object \n",
      " 4   REF_AREA               39 non-null     object \n",
      " 5   Reference area         39 non-null     object \n",
      " 6   MEASURE                39 non-null     object \n",
      " 7   Measure                39 non-null     object \n",
      " 8   UNIT_MEASURE           39 non-null     object \n",
      " 9   Unit of measure        39 non-null     object \n",
      " 10  PAY_PERIOD             39 non-null     object \n",
      " 11  Pay period             39 non-null     object \n",
      " 12  PRICE_BASE             39 non-null     object \n",
      " 13  Price base             39 non-null     object \n",
      " 14  AGGREGATION_OPERATION  39 non-null     object \n",
      " 15  Aggregation operation  39 non-null     object \n",
      " 16  SEX                    39 non-null     object \n",
      " 17  Sex                    39 non-null     object \n",
      " 18  TIME_PERIOD            39 non-null     int64  \n",
      " 19  Time period            0 non-null      float64\n",
      " 20  OBS_VALUE              39 non-null     float64\n",
      " 21  Observation value      0 non-null      float64\n",
      " 22  BASE_PER               39 non-null     int64  \n",
      " 23  Base period            0 non-null      float64\n",
      " 24  OBS_STATUS             39 non-null     object \n",
      " 25  Observation status     39 non-null     object \n",
      " 26  UNIT_MULT              39 non-null     int64  \n",
      " 27  Unit multiplier        39 non-null     object \n",
      " 28  DECIMALS               39 non-null     int64  \n",
      " 29  Decimals               39 non-null     object \n",
      "dtypes: float64(4), int64(4), object(22)\n",
      "memory usage: 9.4+ KB\n"
     ]
    }
   ],
   "source": [
    "df1 = df.query('TIME_PERIOD == 2022')\n",
    "df1.info()"
   ]
  },
  {
   "cell_type": "code",
   "execution_count": 422,
   "id": "e27a1b8f-9d65-437b-8fc1-51204af4c9b5",
   "metadata": {},
   "outputs": [],
   "source": [
    "df2 = df1[['Reference area','OBS_VALUE','BASE_PER']]"
   ]
  },
  {
   "cell_type": "code",
   "execution_count": 423,
   "id": "bbf7d0c0-04d6-42ec-9fc9-046b46f11551",
   "metadata": {
    "scrolled": true
   },
   "outputs": [],
   "source": [
    "num_cols = df2.select_dtypes(include=np.number).columns.tolist()"
   ]
  },
  {
   "cell_type": "code",
   "execution_count": 424,
   "id": "7f7ba246-713d-486d-a150-73a015913615",
   "metadata": {},
   "outputs": [
    {
     "name": "stdout",
     "output_type": "stream",
     "text": [
      "Numerical Variables:\n",
      "['OBS_VALUE', 'BASE_PER']\n"
     ]
    }
   ],
   "source": [
    "print(\"Numerical Variables:\")\n",
    "print(num_cols)"
   ]
  },
  {
   "cell_type": "code",
   "execution_count": 425,
   "id": "8206c6c8-5a7f-460c-9975-24834c75a5f0",
   "metadata": {},
   "outputs": [
    {
     "name": "stdout",
     "output_type": "stream",
     "text": [
      "OBS_VALUE\n",
      "Skew : 0.17\n"
     ]
    },
    {
     "data": {
      "image/png": "[encoded data removed]",
      "text/plain": [
       "<Figure size 1500x400 with 2 Axes>"
      ]
     },
     "metadata": {},
     "output_type": "display_data"
    },
    {
     "name": "stdout",
     "output_type": "stream",
     "text": [
      "BASE_PER\n",
      "Skew : 0.0\n"
     ]
    },
    {
     "data": {
      "image/png": "[encoded data removed]",
      "text/plain": [
       "<Figure size 1500x400 with 2 Axes>"
      ]
     },
     "metadata": {},
     "output_type": "display_data"
    }
   ],
   "source": [
    "for col in num_cols:\n",
    "    print(col)\n",
    "    print('Skew :', round(df2[col].skew(), 2))\n",
    "    plt.figure(figsize = (15, 4))\n",
    "    plt.subplot(1, 2, 1)\n",
    "    df2[col].hist(grid=False)\n",
    "    plt.ylabel('count')\n",
    "    plt.subplot(1, 2, 2)\n",
    "    sns.boxplot(x=df1[col])\n",
    "    plt.show()"
   ]
  },
  {
   "cell_type": "markdown",
   "id": "aa3f2860-5164-465b-bd05-d7cedd1dd603",
   "metadata": {},
   "source": [
    "Here I just did a univariate analysis to see the skew of the difference in salaries"
   ]
  },
  {
   "cell_type": "code",
   "execution_count": 427,
   "id": "d028511f-1375-4b36-967e-80972ef235e4",
   "metadata": {
    "scrolled": true
   },
   "outputs": [
    {
     "data": {
      "text/html": [
       "<div>\n",
       "<style scoped>\n",
       "    .dataframe tbody tr th:only-of-type {\n",
       "        vertical-align: middle;\n",
       "    }\n",
       "\n",
       "    .dataframe tbody tr th {\n",
       "        vertical-align: top;\n",
       "    }\n",
       "\n",
       "    .dataframe thead th {\n",
       "        text-align: right;\n",
       "    }\n",
       "</style>\n",
       "<table border=\"1\" class=\"dataframe\">\n",
       "  <thead>\n",
       "    <tr style=\"text-align: right;\">\n",
       "      <th></th>\n",
       "      <th>OBS_VALUE</th>\n",
       "    </tr>\n",
       "  </thead>\n",
       "  <tbody>\n",
       "    <tr>\n",
       "      <th>count</th>\n",
       "      <td>39.000000</td>\n",
       "    </tr>\n",
       "    <tr>\n",
       "      <th>mean</th>\n",
       "      <td>51125.558385</td>\n",
       "    </tr>\n",
       "    <tr>\n",
       "      <th>std</th>\n",
       "      <td>16567.470673</td>\n",
       "    </tr>\n",
       "    <tr>\n",
       "      <th>min</th>\n",
       "      <td>19869.750000</td>\n",
       "    </tr>\n",
       "    <tr>\n",
       "      <th>25%</th>\n",
       "      <td>36246.437000</td>\n",
       "    </tr>\n",
       "    <tr>\n",
       "      <th>50%</th>\n",
       "      <td>50927.816000</td>\n",
       "    </tr>\n",
       "    <tr>\n",
       "      <th>75%</th>\n",
       "      <td>63911.467500</td>\n",
       "    </tr>\n",
       "    <tr>\n",
       "      <th>max</th>\n",
       "      <td>83661.253000</td>\n",
       "    </tr>\n",
       "  </tbody>\n",
       "</table>\n",
       "</div>"
      ],
      "text/plain": [
       "          OBS_VALUE\n",
       "count     39.000000\n",
       "mean   51125.558385\n",
       "std    16567.470673\n",
       "min    19869.750000\n",
       "25%    36246.437000\n",
       "50%    50927.816000\n",
       "75%    63911.467500\n",
       "max    83661.253000"
      ]
     },
     "execution_count": 427,
     "metadata": {},
     "output_type": "execute_result"
    }
   ],
   "source": [
    "df2 = df2[['OBS_VALUE']]\n",
    "df2.describe() "
   ]
  },
  {
   "cell_type": "markdown",
   "id": "c6981422-84f9-478f-99ff-7b01b83e073a",
   "metadata": {},
   "source": [
    "# Data Visualisation"
   ]
  },
  {
   "cell_type": "code",
   "execution_count": 429,
   "id": "2ad1863b-2c1b-497b-bce7-cf48ca6876ba",
   "metadata": {},
   "outputs": [],
   "source": [
    "df3 = df1[['Reference area','OBS_VALUE']]"
   ]
  },
  {
   "cell_type": "code",
   "execution_count": 430,
   "id": "db2b4ea8-c911-421c-b51b-bd158727f733",
   "metadata": {},
   "outputs": [
    {
     "name": "stdout",
     "output_type": "stream",
     "text": [
      "<class 'pandas.core.frame.DataFrame'>\n",
      "Index: 39 entries, 31 to 1202\n",
      "Data columns (total 2 columns):\n",
      " #   Column          Non-Null Count  Dtype  \n",
      "---  ------          --------------  -----  \n",
      " 0   Reference area  39 non-null     object \n",
      " 1   OBS_VALUE       39 non-null     float64\n",
      "dtypes: float64(1), object(1)\n",
      "memory usage: 936.0+ bytes\n"
     ]
    }
   ],
   "source": [
    "df3.info()"
   ]
  },
  {
   "cell_type": "code",
   "execution_count": 431,
   "id": "ac5ae3bb-2652-4f30-947f-e40fae46893a",
   "metadata": {},
   "outputs": [
    {
     "name": "stderr",
     "output_type": "stream",
     "text": [
      "C:\\Users\\16479\\AppData\\Local\\Temp\\ipykernel_19416\\3677551188.py:1: SettingWithCopyWarning: \n",
      "A value is trying to be set on a copy of a slice from a DataFrame\n",
      "\n",
      "See the caveats in the documentation: https://pandas.pydata.org/pandas-docs/stable/user_guide/indexing.html#returning-a-view-versus-a-copy\n",
      "  df3.sort_values(by=['OBS_VALUE'], inplace=True)\n"
     ]
    }
   ],
   "source": [
    "df3.sort_values(by=['OBS_VALUE'], inplace=True)"
   ]
  },
  {
   "cell_type": "code",
   "execution_count": 432,
   "id": "b1c5c574-6534-48a9-a2f4-6144999606a3",
   "metadata": {},
   "outputs": [
    {
     "data": {
      "text/html": [
       "<div>\n",
       "<style scoped>\n",
       "    .dataframe tbody tr th:only-of-type {\n",
       "        vertical-align: middle;\n",
       "    }\n",
       "\n",
       "    .dataframe tbody tr th {\n",
       "        vertical-align: top;\n",
       "    }\n",
       "\n",
       "    .dataframe thead th {\n",
       "        text-align: right;\n",
       "    }\n",
       "</style>\n",
       "<table border=\"1\" class=\"dataframe\">\n",
       "  <thead>\n",
       "    <tr style=\"text-align: right;\">\n",
       "      <th></th>\n",
       "      <th>Reference area</th>\n",
       "      <th>OBS_VALUE</th>\n",
       "    </tr>\n",
       "  </thead>\n",
       "  <tbody>\n",
       "    <tr>\n",
       "      <th>767</th>\n",
       "      <td>Mexico</td>\n",
       "      <td>19869.750</td>\n",
       "    </tr>\n",
       "    <tr>\n",
       "      <th>159</th>\n",
       "      <td>Colombia</td>\n",
       "      <td>26289.901</td>\n",
       "    </tr>\n",
       "    <tr>\n",
       "      <th>408</th>\n",
       "      <td>Greece</td>\n",
       "      <td>28598.901</td>\n",
       "    </tr>\n",
       "    <tr>\n",
       "      <th>951</th>\n",
       "      <td>Slovak Republic</td>\n",
       "      <td>29908.547</td>\n",
       "    </tr>\n",
       "    <tr>\n",
       "      <th>436</th>\n",
       "      <td>Hungary</td>\n",
       "      <td>30476.190</td>\n",
       "    </tr>\n",
       "  </tbody>\n",
       "</table>\n",
       "</div>"
      ],
      "text/plain": [
       "      Reference area  OBS_VALUE\n",
       "767           Mexico  19869.750\n",
       "159         Colombia  26289.901\n",
       "408           Greece  28598.901\n",
       "951  Slovak Republic  29908.547\n",
       "436          Hungary  30476.190"
      ]
     },
     "execution_count": 432,
     "metadata": {},
     "output_type": "execute_result"
    }
   ],
   "source": [
    "df3.head()"
   ]
  },
  {
   "cell_type": "code",
   "execution_count": null,
   "id": "19c91999-7355-4cf2-994a-cacbbd51f426",
   "metadata": {},
   "outputs": [],
   "source": []
  },
  {
   "cell_type": "code",
   "execution_count": 452,
   "id": "fd21237d-229d-4aa9-858c-ec0967eea0a1",
   "metadata": {
    "scrolled": true
   },
   "outputs": [
    {
     "name": "stderr",
     "output_type": "stream",
     "text": [
      "C:\\Users\\16479\\AppData\\Local\\Temp\\ipykernel_19416\\3059789889.py:1: FutureWarning: \n",
      "\n",
      "Passing `palette` without assigning `hue` is deprecated and will be removed in v0.14.0. Assign the `y` variable to `hue` and set `legend=False` for the same effect.\n",
      "\n",
      "  sns.barplot(y = 'Reference area',x = 'OBS_VALUE',data = df3 ,palette = \"Blues\")\n"
     ]
    },
    {
     "data": {
      "image/png": "[encoded data removed]",
      "text/plain": [
       "<Figure size 640x480 with 1 Axes>"
      ]
     },
     "metadata": {},
     "output_type": "display_data"
    }
   ],
   "source": [
    "sns.barplot(y = 'Reference area',x = 'OBS_VALUE',data = df3 ,palette = \"Blues\")\n",
    "#Adding the aesthetics\n",
    "plt.title('Average Annual Wages, US dollars, 2022')\n",
    "plt.xlabel('Salary Adjusted to USD')\n",
    "plt.ylabel('Country') \n",
    "# Show the plot\n",
    "plt.autoscale()\n",
    "plt.savefig('seaborn_plot.png',bbox_inches=\"tight\")\n",
    "plt.show()"
   ]
  },
  {
   "cell_type": "code",
   "execution_count": null,
   "id": "72e8a244-7d54-473f-a10b-f2079314a9e5",
   "metadata": {},
   "outputs": [],
   "source": []
  }
 ],
 "metadata": {
  "kernelspec": {
   "display_name": "Python 3 (ipykernel)",
   "language": "python",
   "name": "python3"
  },
  "language_info": {
   "codemirror_mode": {
    "name": "ipython",
    "version": 3
   },
   "file_extension": ".py",
   "mimetype": "text/x-python",
   "name": "python",
   "nbconvert_exporter": "python",
   "pygments_lexer": "ipython3",
   "version": "3.12.4"
  }
 },
 "nbformat": 4,
 "nbformat_minor": 5
}
